{
 "cells": [
  {
   "cell_type": "markdown",
   "metadata": {},
   "source": [
    "# Lecture 14 Notes\n",
    "\n",
    "The plan:\n",
    "1. set up imports\n",
    "2. load the data\n",
    "3. split into training and testing data\n",
    "4. define the different hyperparameter values\n",
    "5. loop over combinations of hyperparameters, train model, and evaluate accuracy"
   ]
  },
  {
   "cell_type": "code",
   "execution_count": 1,
   "metadata": {},
   "outputs": [],
   "source": [
    "# set up imports\n",
    "from sklearn.datasets import load_digits\n",
    "from sklearn.ensemble import RandomForestClassifier\n",
    "from sklearn.model_selection import train_test_split\n",
    "from sklearn.metrics import accuracy_score"
   ]
  },
  {
   "cell_type": "code",
   "execution_count": 6,
   "metadata": {},
   "outputs": [
    {
     "data": {
      "text/plain": [
       "((1797, 64), (1797,))"
      ]
     },
     "execution_count": 6,
     "metadata": {},
     "output_type": "execute_result"
    }
   ],
   "source": [
    "# load the data\n",
    "digits = load_digits()\n",
    "\n",
    "X = digits.data\n",
    "y = digits.target\n",
    "\n",
    "X.shape, y.shape"
   ]
  },
  {
   "cell_type": "code",
   "execution_count": null,
   "metadata": {},
   "outputs": [
    {
     "data": {
      "text/plain": [
       "array([5, 2, 0, ..., 2, 7, 1], shape=(1347,))"
      ]
     },
     "execution_count": 7,
     "metadata": {},
     "output_type": "execute_result"
    }
   ],
   "source": [
    "# do the train test split (75% of data for training)\n",
    "X_train, X_test, y_train, y_test = train_test_split(X, y, random_state=42)\n",
    "\n",
    "y_train"
   ]
  },
  {
   "cell_type": "code",
   "execution_count": 8,
   "metadata": {},
   "outputs": [],
   "source": [
    "# define hyperparameter values to test\n",
    "max_samples = [0.25, 0.5, 0.75, 1]\n",
    "max_features = [0.25, 0.5, 0.75, 1]"
   ]
  },
  {
   "cell_type": "code",
   "execution_count": null,
   "metadata": {},
   "outputs": [
    {
     "name": "stdout",
     "output_type": "stream",
     "text": [
      "0.25 0.25\n",
      "0.25 0.5\n",
      "0.25 0.75\n",
      "0.25 1\n",
      "0.5 0.25\n",
      "0.5 0.5\n",
      "0.5 0.75\n",
      "0.5 1\n",
      "0.75 0.25\n",
      "0.75 0.5\n",
      "0.75 0.75\n",
      "0.75 1\n",
      "1 0.25\n",
      "1 0.5\n",
      "1 0.75\n",
      "1 1\n"
     ]
    }
   ],
   "source": [
    "for max_s in max_samples:\n",
    "    for max_f in max_features:\n",
    "        # print(max_s, max_f)\n",
    "        # create a random forest classifier with these parameters\n",
    "        rf_clf = RandomForestClassifier(max_samples=max_s, max_features=max_f, random_state=42)\n",
    "\n",
    "        # fit the model\n",
    "\n",
    "        # make predictions\n",
    "\n",
    "        # evaluate accuracy\n",
    "\n",
    "        # print result"
   ]
  },
  {
   "cell_type": "markdown",
   "metadata": {},
   "source": []
  }
 ],
 "metadata": {
  "kernelspec": {
   "display_name": "Python 3",
   "language": "python",
   "name": "python3"
  },
  "language_info": {
   "codemirror_mode": {
    "name": "ipython",
    "version": 3
   },
   "file_extension": ".py",
   "mimetype": "text/x-python",
   "name": "python",
   "nbconvert_exporter": "python",
   "pygments_lexer": "ipython3",
   "version": "3.12.1"
  }
 },
 "nbformat": 4,
 "nbformat_minor": 2
}
